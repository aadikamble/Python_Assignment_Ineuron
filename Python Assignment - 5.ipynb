{
 "cells": [
  {
   "cell_type": "raw",
   "id": "7ae5b278",
   "metadata": {},
   "source": [
    "Name : Aaditya Kamble\n",
    "Email_Id : aadityak97@gmail.com\n",
    "Batch : FSDA (June 2022)"
   ]
  },
  {
   "cell_type": "code",
   "execution_count": 16,
   "id": "8bf05755",
   "metadata": {},
   "outputs": [
    {
     "name": "stdout",
     "output_type": "stream",
     "text": [
      "30\n",
      "180\n"
     ]
    }
   ],
   "source": [
    "#Q1. Write a Python Program to Find LCM?\n",
    "\n",
    "def lcm(x, y):\n",
    "  if x > y:\n",
    "      z = x\n",
    "  else:\n",
    "      z = y\n",
    "  while(True):\n",
    "      if((z % x == 0) and (z % y == 0)):\n",
    "          lcm = z\n",
    "          break\n",
    "      z += 1\n",
    "  return lcm\n",
    "print(lcm(6, 10))\n",
    "print(lcm(18, 20))"
   ]
  },
  {
   "cell_type": "code",
   "execution_count": 17,
   "id": "e1dd0dd6",
   "metadata": {},
   "outputs": [
    {
     "name": "stdout",
     "output_type": "stream",
     "text": [
      "Enter first number: 8\n",
      "Enter second number: 12\n",
      "The H.C.F. of 8 and 12 is 4\n"
     ]
    }
   ],
   "source": [
    "#Q2. Write a Python Program to Find HCF?\n",
    "\n",
    "# defining a function to calculate HCF  \n",
    "def calculate_hcf(x, y):  \n",
    "    # selecting the smaller number  \n",
    "    if x > y:  \n",
    "        smaller = y  \n",
    "    else:  \n",
    "        smaller = x  \n",
    "    for i in range(1,smaller + 1):  \n",
    "        if((x % i == 0) and (y % i == 0)):  \n",
    "            hcf = i  \n",
    "    return hcf  \n",
    "  \n",
    "# taking input from users  \n",
    "num1 = int(input(\"Enter first number: \"))  \n",
    "num2 = int(input(\"Enter second number: \"))  \n",
    "# printing the result for the users  \n",
    "print(\"The H.C.F. of\", num1,\"and\", num2,\"is\", calculate_hcf(num1, num2))  "
   ]
  },
  {
   "cell_type": "code",
   "execution_count": 22,
   "id": "0958974b",
   "metadata": {},
   "outputs": [
    {
     "name": "stdout",
     "output_type": "stream",
     "text": [
      "Enter the Decimal Number: 88\n",
      "The given decimal number 88 in Binary number is:  0b1011000\n",
      "The given decimal number 88 in Octal number is:  0o130\n",
      "The given decimal number 88 in Hexadecimal number is:  0x58\n"
     ]
    }
   ],
   "source": [
    "#Q3. Write a Python Program to Convert Decimal to Binary, Octal and Hexadecimal?\n",
    "\n",
    "# First, we will define the function to convert decimal to binary  \n",
    "def decimal_into_binary(decimal_1):  \n",
    "    decimal = int(decimal_1)  \n",
    "    \n",
    "    # then, print the equivalent decimal  \n",
    "    print (\"The given decimal number\", decimal, \"in Binary number is: \", bin(decimal))  \n",
    "# we will define the function to convert decimal to octal  \n",
    "def decimal_into_octal(decimal_1):  \n",
    "    decimal = int(decimal_1)  \n",
    "    \n",
    "    # Then, print the equivalent decimal  \n",
    "    print (\"The given decimal number\", decimal, \"in Octal number is: \", oct(decimal))  \n",
    "# we will define the function to convert decimal to hexadecimal  \n",
    "def decimal_into_hexadecimal(decimal_1):  \n",
    "    decimal = int(decimal_1)  \n",
    "    \n",
    "    # Then, print the equivalent decimal  \n",
    "    print (\"The given decimal number\", decimal, \"in Hexadecimal number is: \", hex(decimal))  \n",
    "    \n",
    "# Driver program  \n",
    "decimal_1 = int (input (\"Enter the Decimal Number: \"))  \n",
    "decimal_into_binary(decimal_1)  \n",
    "decimal_into_octal(decimal_1)  \n",
    "decimal_into_hexadecimal(decimal_1) "
   ]
  },
  {
   "cell_type": "code",
   "execution_count": 23,
   "id": "2b91750b",
   "metadata": {},
   "outputs": [
    {
     "name": "stdout",
     "output_type": "stream",
     "text": [
      "Enter any character: A\n",
      "The ASCII value of char A is:  65\n"
     ]
    }
   ],
   "source": [
    "#Q4. Write a Python Program To Find ASCII value of a character?\n",
    "\n",
    "ch = input(\"Enter any character: \")\n",
    "\n",
    "print(\"The ASCII value of char \" + ch + \" is: \",ord(ch))"
   ]
  },
  {
   "cell_type": "code",
   "execution_count": null,
   "id": "346c90c4",
   "metadata": {},
   "outputs": [],
   "source": [
    "#Q5. Write a Python Program to Make a Simple Calculator with 4 basic mathematical operations?\n",
    "\n",
    "# pip install tkinter\n",
    "import tkinter as tk\n",
    "import tkinter.messagebox\n",
    "from tkinter.constants import SUNKEN\n",
    " \n",
    "window = tk.Tk()\n",
    "window.title('Calculator')\n",
    "frame = tk.Frame(master=window, bg=\"skyblue\", padx=10)\n",
    "frame.pack()\n",
    "entry = tk.Entry(master=frame, relief=SUNKEN, borderwidth=3, width=30)\n",
    "entry.grid(row=0, column=0, columnspan=3, ipady=2, pady=2)\n",
    " \n",
    " \n",
    "def myclick(number):\n",
    "    entry.insert(tk.END, number)\n",
    " \n",
    " \n",
    "def equal():\n",
    "    try:\n",
    "        y = str(eval(entry.get()))\n",
    "        entry.delete(0, tk.END)\n",
    "        entry.insert(0, y)\n",
    "    except:\n",
    "        tkinter.messagebox.showinfo(\"Error\", \"Syntax Error\")\n",
    " \n",
    " \n",
    "def clear():\n",
    "    entry.delete(0, tk.END)\n",
    " \n",
    " \n",
    "button_1 = tk.Button(master=frame, text='1', padx=15,\n",
    "                     pady=5, width=3, command=lambda: myclick(1))\n",
    "button_1.grid(row=1, column=0, pady=2)\n",
    "button_2 = tk.Button(master=frame, text='2', padx=15,\n",
    "                     pady=5, width=3, command=lambda: myclick(2))\n",
    "button_2.grid(row=1, column=1, pady=2)\n",
    "button_3 = tk.Button(master=frame, text='3', padx=15,\n",
    "                     pady=5, width=3, command=lambda: myclick(3))\n",
    "button_3.grid(row=1, column=2, pady=2)\n",
    "button_4 = tk.Button(master=frame, text='4', padx=15,\n",
    "                     pady=5, width=3, command=lambda: myclick(4))\n",
    "button_4.grid(row=2, column=0, pady=2)\n",
    "button_5 = tk.Button(master=frame, text='5', padx=15,\n",
    "                     pady=5, width=3, command=lambda: myclick(5))\n",
    "button_5.grid(row=2, column=1, pady=2)\n",
    "button_6 = tk.Button(master=frame, text='6', padx=15,\n",
    "                     pady=5, width=3, command=lambda: myclick(6))\n",
    "button_6.grid(row=2, column=2, pady=2)\n",
    "button_7 = tk.Button(master=frame, text='7', padx=15,\n",
    "                     pady=5, width=3, command=lambda: myclick(7))\n",
    "button_7.grid(row=3, column=0, pady=2)\n",
    "button_8 = tk.Button(master=frame, text='8', padx=15,\n",
    "                     pady=5, width=3, command=lambda: myclick(8))\n",
    "button_8.grid(row=3, column=1, pady=2)\n",
    "button_9 = tk.Button(master=frame, text='9', padx=15,\n",
    "                     pady=5, width=3, command=lambda: myclick(9))\n",
    "button_9.grid(row=3, column=2, pady=2)\n",
    "button_0 = tk.Button(master=frame, text='0', padx=15,\n",
    "                     pady=5, width=3, command=lambda: myclick(0))\n",
    "button_0.grid(row=4, column=1, pady=2)\n",
    " \n",
    "button_add = tk.Button(master=frame, text=\"+\", padx=15,\n",
    "                       pady=5, width=3, command=lambda: myclick('+'))\n",
    "button_add.grid(row=5, column=0, pady=2)\n",
    " \n",
    "button_subtract = tk.Button(\n",
    "    master=frame, text=\"-\", padx=15, pady=5, width=3, command=lambda: myclick('-'))\n",
    "button_subtract.grid(row=5, column=1, pady=2)\n",
    " \n",
    "button_multiply = tk.Button(\n",
    "    master=frame, text=\"*\", padx=15, pady=5, width=3, command=lambda: myclick('*'))\n",
    "button_multiply.grid(row=5, column=2, pady=2)\n",
    " \n",
    "button_div = tk.Button(master=frame, text=\"/\", padx=15,\n",
    "                       pady=5, width=3, command=lambda: myclick('/'))\n",
    "button_div.grid(row=6, column=0, pady=2)\n",
    " \n",
    "button_clear = tk.Button(master=frame, text=\"clear\",\n",
    "                         padx=15, pady=5, width=12, command=clear)\n",
    "button_clear.grid(row=6, column=1, columnspan=2, pady=2)\n",
    " \n",
    "button_equal = tk.Button(master=frame, text=\"=\", padx=15,\n",
    "                         pady=5, width=9, command=equal)\n",
    "button_equal.grid(row=7, column=0, columnspan=3, pady=2)\n",
    " \n",
    "window.mainloop()"
   ]
  },
  {
   "cell_type": "code",
   "execution_count": null,
   "id": "49c9ee78",
   "metadata": {},
   "outputs": [],
   "source": []
  },
  {
   "cell_type": "code",
   "execution_count": null,
   "id": "8ae70460",
   "metadata": {},
   "outputs": [],
   "source": []
  }
 ],
 "metadata": {
  "kernelspec": {
   "display_name": "Python 3 (ipykernel)",
   "language": "python",
   "name": "python3"
  },
  "language_info": {
   "codemirror_mode": {
    "name": "ipython",
    "version": 3
   },
   "file_extension": ".py",
   "mimetype": "text/x-python",
   "name": "python",
   "nbconvert_exporter": "python",
   "pygments_lexer": "ipython3",
   "version": "3.9.7"
  }
 },
 "nbformat": 4,
 "nbformat_minor": 5
}
