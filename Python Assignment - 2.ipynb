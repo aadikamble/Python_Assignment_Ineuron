{
 "cells": [
  {
   "cell_type": "raw",
   "id": "7f055fc3",
   "metadata": {},
   "source": [
    "Name : Aaditya Kamble\n",
    "Email_Id : aadityak97@gmail.com\n",
    "Batch : FSDA (June 2022)"
   ]
  },
  {
   "cell_type": "code",
   "execution_count": 7,
   "id": "660b911d",
   "metadata": {},
   "outputs": [
    {
     "name": "stdout",
     "output_type": "stream",
     "text": [
      "Enter value in kilometers: 56\n",
      "56.00 kilometers is equal to 34.80 miles\n"
     ]
    }
   ],
   "source": [
    "#Q1. Write a Python program to convert kilometers to miles?\n",
    "\n",
    "#Taking user input\n",
    "\n",
    "km = float(input(\"Enter value in kilometers: \"))\n",
    "\n",
    "#Conversion factor\n",
    "cf = 0.621371\n",
    "\n",
    "#Calculate miles\n",
    "miles = km * cf\n",
    "\n",
    "#Print the output\n",
    "print('%0.2f kilometers is equal to %0.2f miles' %(km,miles))"
   ]
  },
  {
   "cell_type": "code",
   "execution_count": 8,
   "id": "15f84740",
   "metadata": {},
   "outputs": [
    {
     "name": "stdout",
     "output_type": "stream",
     "text": [
      "Temperature value in degree Celsius: 36\n",
      "The 36.00 degree Celsius is equal to: 96.80 Fahrenheit\n"
     ]
    }
   ],
   "source": [
    "#Q2. Write a Python program to convert Celsius to Fahrenheit?\n",
    "\n",
    "celsius = float (input(\"Temperature value in degree Celsius: \" ))  \n",
    "Fahrenheit = (celsius * 1.8) + 32  \n",
    "    \n",
    "# print the result  \n",
    "print ('The %.2f degree Celsius is equal to: %.2f Fahrenheit'  %(celsius, Fahrenheit))  "
   ]
  },
  {
   "cell_type": "code",
   "execution_count": 10,
   "id": "1dc28c79",
   "metadata": {},
   "outputs": [
    {
     "name": "stdout",
     "output_type": "stream",
     "text": [
      "Enter year: 2033\n",
      "Enter month: 7\n",
      "     July 2033\n",
      "Mo Tu We Th Fr Sa Su\n",
      "             1  2  3\n",
      " 4  5  6  7  8  9 10\n",
      "11 12 13 14 15 16 17\n",
      "18 19 20 21 22 23 24\n",
      "25 26 27 28 29 30 31\n",
      "\n"
     ]
    }
   ],
   "source": [
    "#Q3. Write a Python program to display calendar?\n",
    "\n",
    "import calendar  \n",
    "\n",
    "# Enter the month and year  \n",
    "yy = int(input(\"Enter year: \"))  \n",
    "mm = int(input(\"Enter month: \"))  \n",
    "  \n",
    "# display the calendar  \n",
    "print(calendar.month(yy,mm)) "
   ]
  },
  {
   "cell_type": "code",
   "execution_count": 11,
   "id": "77c9acc6",
   "metadata": {},
   "outputs": [
    {
     "name": "stdout",
     "output_type": "stream",
     "text": [
      "Enter a: 33\n",
      "Enter b: 22\n",
      "Enter c: 44\n",
      "The solution are (-0.3333333333333333-1.1055415967851334j) and (-0.3333333333333333+1.1055415967851334j)\n"
     ]
    }
   ],
   "source": [
    "#Q4. Write a Python program to solve quadratic equation?\n",
    "\n",
    "import cmath  \n",
    "a = float(input('Enter a: '))  \n",
    "b = float(input('Enter b: '))  \n",
    "c = float(input('Enter c: '))  \n",
    "  \n",
    "# calculate the discriminant  \n",
    "d = (b**2) - (4*a*c)  \n",
    "  \n",
    "# find two solutions  \n",
    "sol1 = (-b-cmath.sqrt(d))/(2*a)  \n",
    "sol2 = (-b+cmath.sqrt(d))/(2*a)  \n",
    "print('The solution are {0} and {1}'.format(sol1,sol2))   "
   ]
  },
  {
   "cell_type": "code",
   "execution_count": 15,
   "id": "2d170ac4",
   "metadata": {},
   "outputs": [
    {
     "name": "stdout",
     "output_type": "stream",
     "text": [
      "Enter first number :33\n",
      "Enter second number :89\n",
      "Before swapping: \n",
      "Value of x :  33  and y :  89\n",
      "After swapping: \n",
      "Value of x :  89  and y :  33\n"
     ]
    }
   ],
   "source": [
    "#Q5. Write a Python program to swap two variables without temp variable?\n",
    "\n",
    "# Python code to swap two numbers without using temp variable\n",
    "\n",
    "x = int(input(\"Enter first number :\"))\n",
    "y = int(input(\"Enter second number :\"))\n",
    " \n",
    "print (\"Before swapping: \")\n",
    "print(\"Value of x : \", x, \" and y : \", y)\n",
    " \n",
    "# code to swap 'x' and 'y'\n",
    "x, y = y, x\n",
    " \n",
    "print (\"After swapping: \")\n",
    "print(\"Value of x : \", x, \" and y : \", y)"
   ]
  }
 ],
 "metadata": {
  "kernelspec": {
   "display_name": "Python 3 (ipykernel)",
   "language": "python",
   "name": "python3"
  },
  "language_info": {
   "codemirror_mode": {
    "name": "ipython",
    "version": 3
   },
   "file_extension": ".py",
   "mimetype": "text/x-python",
   "name": "python",
   "nbconvert_exporter": "python",
   "pygments_lexer": "ipython3",
   "version": "3.9.7"
  }
 },
 "nbformat": 4,
 "nbformat_minor": 5
}
