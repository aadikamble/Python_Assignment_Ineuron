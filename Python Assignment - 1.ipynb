{
 "cells": [
  {
   "cell_type": "raw",
   "id": "ad8b079c",
   "metadata": {},
   "source": [
    "Name : Aaditya Kamble\n",
    "Email_Id : aadityak97@gmail.com\n",
    "Batch : FSDA (June 2022)"
   ]
  },
  {
   "cell_type": "code",
   "execution_count": 1,
   "id": "83e2ee0c",
   "metadata": {},
   "outputs": [
    {
     "name": "stdout",
     "output_type": "stream",
     "text": [
      "Hello Python\n"
     ]
    }
   ],
   "source": [
    "#Q1. Write a program to print \"Hello Python\"?\n",
    "\n",
    "print(\"Hello Python\")"
   ]
  },
  {
   "cell_type": "code",
   "execution_count": 5,
   "id": "5d2fbf04",
   "metadata": {},
   "outputs": [
    {
     "name": "stdout",
     "output_type": "stream",
     "text": [
      "Enter Number1 : 33\n",
      "Enter Number2 : 33\n",
      "The addition of number1 and number2 is 66\n"
     ]
    }
   ],
   "source": [
    "#Q2. Write a Python program to do arithmetical operations addition and division.?\n",
    "\n",
    "#Addition\n",
    "\n",
    "number1 = int(input(\"Enter Number1 : \"))\n",
    "number2 = int(input(\"Enter Number2 : \"))\n",
    "\n",
    "addition = number1+number2\n",
    "print(\"The addition of number1 and number2 is\",addition)\n"
   ]
  },
  {
   "cell_type": "code",
   "execution_count": 8,
   "id": "ec1123ac",
   "metadata": {},
   "outputs": [
    {
     "name": "stdout",
     "output_type": "stream",
     "text": [
      "Enter Number1 : 21\n",
      "Enter Number2 : 3\n",
      "The division of number1 and number2 is 7.0\n"
     ]
    }
   ],
   "source": [
    "#Division\n",
    "\n",
    "number1 = int(input(\"Enter Number1 : \"))\n",
    "number2 = int(input(\"Enter Number2 : \"))\n",
    "\n",
    "division = number1/number2\n",
    "print(\"The division of number1 and number2 is\",division)"
   ]
  },
  {
   "cell_type": "code",
   "execution_count": 10,
   "id": "12337e79",
   "metadata": {},
   "outputs": [
    {
     "name": "stdout",
     "output_type": "stream",
     "text": [
      "Enter first side: 56\n",
      "Enter second side: 66\n",
      "Enter third side: 45\n",
      "The area of the triangle is 1243.82\n"
     ]
    }
   ],
   "source": [
    "#Q3. Write a Python program to find the area of a triangle?\n",
    "\n",
    "#Three sides of the triangle is a,b,c\n",
    "\n",
    "a = float(input('Enter first side: '))  \n",
    "b = float(input('Enter second side: '))  \n",
    "c = float(input('Enter third side: '))\n",
    "\n",
    "# calculate the semi-perimeter: \n",
    "s = (a + b + c) / 2  \n",
    "  \n",
    "# calculate the area:\n",
    "area = (s*(s-a)*(s-b)*(s-c)) ** 0.5  \n",
    "print('The area of the triangle is %0.2f' %area)"
   ]
  },
  {
   "cell_type": "code",
   "execution_count": 13,
   "id": "bda94971",
   "metadata": {},
   "outputs": [
    {
     "name": "stdout",
     "output_type": "stream",
     "text": [
      "Please enter value for m: 33\n",
      "Please enter value for n: 44\n",
      "The Value of m after swapping:  44\n",
      "The Value of n after swapping:  33\n"
     ]
    }
   ],
   "source": [
    "#Q4. Write a Python program to swap two variables?\n",
    "\n",
    "m = int(input(\"Please enter value for m: \"))  \n",
    "n = int(input(\"Please enter value for n: \"))  \n",
    "   \n",
    "# To swap the value of two variables we will user third variable which is a temporary variable  \n",
    "temp_1 = m \n",
    "m = n \n",
    "n = temp_1  \n",
    "   \n",
    "print (\"The Value of m after swapping: \", m)  \n",
    "print (\"The Value of n after swapping: \", n)  "
   ]
  },
  {
   "cell_type": "code",
   "execution_count": 15,
   "id": "ed1eb5ee",
   "metadata": {},
   "outputs": [
    {
     "name": "stdout",
     "output_type": "stream",
     "text": [
      "0.7138036857964886\n"
     ]
    }
   ],
   "source": [
    "#Q5. 5. Write a Python program to generate a random number?\n",
    "\n",
    "#1- random() method which generates a float number between 0 and 1\n",
    "\n",
    "import random  \n",
    "number = random.random()  \n",
    "print(number)"
   ]
  },
  {
   "cell_type": "code",
   "execution_count": 18,
   "id": "9f87e8fa",
   "metadata": {},
   "outputs": [
    {
     "name": "stdout",
     "output_type": "stream",
     "text": [
      "158\n"
     ]
    }
   ],
   "source": [
    "import random  \n",
    "x = random.randint(100, 200)  \n",
    "print(x)  "
   ]
  }
 ],
 "metadata": {
  "kernelspec": {
   "display_name": "Python 3 (ipykernel)",
   "language": "python",
   "name": "python3"
  },
  "language_info": {
   "codemirror_mode": {
    "name": "ipython",
    "version": 3
   },
   "file_extension": ".py",
   "mimetype": "text/x-python",
   "name": "python",
   "nbconvert_exporter": "python",
   "pygments_lexer": "ipython3",
   "version": "3.9.7"
  }
 },
 "nbformat": 4,
 "nbformat_minor": 5
}
